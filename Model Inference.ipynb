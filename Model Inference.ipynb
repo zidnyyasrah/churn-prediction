{
 "cells": [
  {
   "cell_type": "code",
   "execution_count": 1,
   "metadata": {},
   "outputs": [],
   "source": [
    "import pickle\n",
    "from tensorflow.keras.models import load_model\n",
    "import pandas as pd\n",
    "import numpy as np"
   ]
  },
  {
   "cell_type": "code",
   "execution_count": 2,
   "metadata": {},
   "outputs": [],
   "source": [
    "# Load All Models\n",
    "\n",
    "with open('final_pipeline.pkl', 'rb') as file_1:\n",
    "  model_pipeline = pickle.load(file_1)\n",
    "\n",
    "model_ann = load_model('churn_model.h5')"
   ]
  },
  {
   "cell_type": "code",
   "execution_count": 3,
   "metadata": {},
   "outputs": [
    {
     "data": {
      "text/html": [
       "<div>\n",
       "<style scoped>\n",
       "    .dataframe tbody tr th:only-of-type {\n",
       "        vertical-align: middle;\n",
       "    }\n",
       "\n",
       "    .dataframe tbody tr th {\n",
       "        vertical-align: top;\n",
       "    }\n",
       "\n",
       "    .dataframe thead th {\n",
       "        text-align: right;\n",
       "    }\n",
       "</style>\n",
       "<table border=\"1\" class=\"dataframe\">\n",
       "  <thead>\n",
       "    <tr style=\"text-align: right;\">\n",
       "      <th></th>\n",
       "      <th>age</th>\n",
       "      <th>gender</th>\n",
       "      <th>region_category</th>\n",
       "      <th>membership_category</th>\n",
       "      <th>joined_through_referral</th>\n",
       "      <th>preferred_offer_types</th>\n",
       "      <th>medium_of_operation</th>\n",
       "      <th>internet_option</th>\n",
       "      <th>days_since_last_login</th>\n",
       "      <th>avg_time_spent</th>\n",
       "      <th>...</th>\n",
       "      <th>used_special_discount</th>\n",
       "      <th>offer_application_preference</th>\n",
       "      <th>past_complaint</th>\n",
       "      <th>complaint_status</th>\n",
       "      <th>feedback</th>\n",
       "      <th>year_join</th>\n",
       "      <th>month_join</th>\n",
       "      <th>day_join</th>\n",
       "      <th>hour_visit</th>\n",
       "      <th>minute_visit</th>\n",
       "    </tr>\n",
       "  </thead>\n",
       "  <tbody>\n",
       "    <tr>\n",
       "      <th>0</th>\n",
       "      <td>22</td>\n",
       "      <td>M</td>\n",
       "      <td>City</td>\n",
       "      <td>Silver Membership</td>\n",
       "      <td>Yes</td>\n",
       "      <td>Without Offers</td>\n",
       "      <td>Desktop</td>\n",
       "      <td>Fiber_Optic</td>\n",
       "      <td>5</td>\n",
       "      <td>400</td>\n",
       "      <td>...</td>\n",
       "      <td>Yes</td>\n",
       "      <td>No</td>\n",
       "      <td>No</td>\n",
       "      <td>No Information Available</td>\n",
       "      <td>Products always in Stock</td>\n",
       "      <td>2017</td>\n",
       "      <td>12</td>\n",
       "      <td>3</td>\n",
       "      <td>12</td>\n",
       "      <td>30</td>\n",
       "    </tr>\n",
       "  </tbody>\n",
       "</table>\n",
       "<p>1 rows × 23 columns</p>\n",
       "</div>"
      ],
      "text/plain": [
       "   age gender region_category membership_category joined_through_referral   \n",
       "0   22      M            City   Silver Membership                     Yes  \\\n",
       "\n",
       "  preferred_offer_types medium_of_operation internet_option   \n",
       "0        Without Offers             Desktop     Fiber_Optic  \\\n",
       "\n",
       "   days_since_last_login  avg_time_spent  ...  used_special_discount   \n",
       "0                      5             400  ...                    Yes  \\\n",
       "\n",
       "   offer_application_preference  past_complaint          complaint_status   \n",
       "0                            No              No  No Information Available  \\\n",
       "\n",
       "                   feedback year_join month_join day_join  hour_visit   \n",
       "0  Products always in Stock      2017         12        3          12  \\\n",
       "\n",
       "   minute_visit  \n",
       "0            30  \n",
       "\n",
       "[1 rows x 23 columns]"
      ]
     },
     "execution_count": 3,
     "metadata": {},
     "output_type": "execute_result"
    }
   ],
   "source": [
    "data_inf = {\n",
    "    'age': 22,\n",
    "    'gender': 'M',\n",
    "    'region_category': 'City',\n",
    "    'membership_category': 'Silver Membership',\n",
    "    'joined_through_referral': 'Yes',\n",
    "    'preferred_offer_types': 'Without Offers',\n",
    "    'medium_of_operation': 'Desktop',\n",
    "    'internet_option': 'Fiber_Optic',\n",
    "    'days_since_last_login': 5,\n",
    "    'avg_time_spent': 400,\n",
    "    'avg_transaction_value': 15000,\n",
    "    'avg_frequency_login_days': 15,\n",
    "    'points_in_wallet': 800,\n",
    "    'used_special_discount': 'Yes',\n",
    "    'offer_application_preference': 'No',\n",
    "    'past_complaint': 'No',\n",
    "    'complaint_status': 'No Information Available',\n",
    "    'feedback': 'Products always in Stock',\n",
    "    'year_join': 2017,\n",
    "    'month_join': 12,\n",
    "    'day_join': 3,\n",
    "    'hour_visit': 12,\n",
    "    'minute_visit': 30,\n",
    "}\n",
    "\n",
    "data_inf = pd.DataFrame([data_inf])\n",
    "data_inf"
   ]
  },
  {
   "cell_type": "code",
   "execution_count": 4,
   "metadata": {},
   "outputs": [
    {
     "name": "stdout",
     "output_type": "stream",
     "text": [
      "1/1 [==============================] - 0s 250ms/step\n"
     ]
    },
    {
     "data": {
      "text/plain": [
       "array([[0]])"
      ]
     },
     "execution_count": 4,
     "metadata": {},
     "output_type": "execute_result"
    }
   ],
   "source": [
    "# Predict using ANN\n",
    "\n",
    "data_inf_transform = model_pipeline.transform(data_inf)\n",
    "y_pred_inf = model_ann.predict(data_inf_transform)\n",
    "y_pred_inf = np.where(y_pred_inf >= 0.5, 1, 0)\n",
    "y_pred_inf"
   ]
  }
 ],
 "metadata": {
  "kernelspec": {
   "display_name": "base",
   "language": "python",
   "name": "python3"
  },
  "language_info": {
   "codemirror_mode": {
    "name": "ipython",
    "version": 3
   },
   "file_extension": ".py",
   "mimetype": "text/x-python",
   "name": "python",
   "nbconvert_exporter": "python",
   "pygments_lexer": "ipython3",
   "version": "3.10.10"
  },
  "orig_nbformat": 4
 },
 "nbformat": 4,
 "nbformat_minor": 2
}
